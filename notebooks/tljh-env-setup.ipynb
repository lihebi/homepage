{
 "cells": [
  {
   "cell_type": "markdown",
   "metadata": {},
   "source": [
    "# Setting up JupyerHub Dev Env (TLJH)"
   ]
  },
  {
   "cell_type": "markdown",
   "metadata": {},
   "source": [
    "## Setting up TLJH on Google Cloud\n",
    "\n",
    "create VM instance\n",
    "- use ubuntu image\n",
    "- select \"no service account\"\n",
    "- allow both HTTP and HTTPS traffic\n",
    "- add a startup script with the following\n",
    "   \n",
    "```\n",
    "#!/bin/bash\n",
    "curl -L https://tljh.jupyter.org/bootstrap.py \\\n",
    "  | sudo python3 - \\\n",
    "    --admin <admin-user-name>\n",
    "```\n",
    "\n",
    "\n",
    "Replace `<adin-user-name>` with your choice. This effectively build the machine on start. I'm not sure whether the startup script will run everytime the machine starts, and I think it should not. Nevertheless, I can actually run this myself inside the VM.\n",
    "\n",
    "Wais for 5-10 minutes until the installation of jupyterhub is completed.\n"
   ]
  },
  {
   "cell_type": "markdown",
   "metadata": {},
   "source": [
    "## Lab configuration\n",
    "\n",
    "Install conda/pip packages globally:\n",
    "    \n",
    "```\n",
    "sudo -E conda install -c conda-forge gdal\n",
    "sudo -E pip install there\n",
    "```\n",
    "    \n",
    "Change default user interface to lab:\n",
    "\n",
    "```\n",
    "sudo tljh-config set user_environment.default_app jupyterlab\n",
    "```\n",
    "\n",
    "Let's Encrypt the server. First add an DNS A record of your domain name `yourhub.yourdomain.edu`, and do:\n",
    "\n",
    "```\n",
    "sudo tljh-config set https.enabled true\n",
    "sudo tljh-config set https.letsencrypt.email you@example.com\n",
    "sudo tljh-config add-item https.letsencrypt.domains yourhub.yourdomain.edu\n",
    "```\n",
    "\n",
    "Enable and install extensions. The web interface should work, but it didn't. I have to install on command line with sudo. I don't know if it is possible to install extensions locally for each user.\n",
    "\n",
    "At some point, you'll want to\n",
    "\n",
    "```\n",
    "tljh-config reload\n",
    "tljh-config reload proxy\n",
    "```"
   ]
  },
  {
   "cell_type": "markdown",
   "metadata": {},
   "source": [
    "## Lab extensions\n",
    "Prerequisit:\n",
    "```\n",
    "conda install -c conda-forge nodejs\n",
    "```\n",
    "\n",
    "Management:\n",
    "```\n",
    "jupyter labextension list\n",
    "# FIXME what is serverextension?\n",
    "jupyter serverextension list\n",
    "jupyter lab build\n",
    "```\n",
    "\n",
    "Install:\n",
    "\n",
    "```\n",
    "jupyter labextension install my-extension\n",
    "jupyter labextension uninstall my-extension\n",
    "jupyter labextension disable my-extension\n",
    "jupyter labextension enable my-extension\n",
    "```\n",
    "\n",
    "The lab extensions installation is not smooth. That's because of permission."
   ]
  },
  {
   "cell_type": "code",
   "execution_count": 1,
   "metadata": {},
   "outputs": [
    {
     "name": "stdout",
     "output_type": "stream",
     "text": [
      "Application directory:   /opt/tljh/user/share/jupyter/lab\n",
      "User Settings directory: /home/jupyter-lihebi/.jupyter/lab/user-settings\n",
      "Workspaces directory: /home/jupyter-lihebi/.jupyter/lab/workspaces\n"
     ]
    }
   ],
   "source": [
    "!jupyter lab paths"
   ]
  },
  {
   "cell_type": "markdown",
   "metadata": {},
   "source": [
    "The Application directory is where to put extension. I should have it set locally (but ideally should still load the system one, see [this issue](https://github.com/jupyterlab/jupyterlab/issues/4064)). But according to the issue, we can at least set the\n",
    "\n",
    "```\n",
    "export JUPYTERLAB_DIR=/home/jovyan/.lab\n",
    "jupyter lab build\n",
    "```\n",
    "\n",
    "- But where should we change env variable that gets loaded by jupyterlab?\n",
    "- And ideally, I should have a declarative way of installing extensions."
   ]
  },
  {
   "cell_type": "code",
   "execution_count": 11,
   "metadata": {},
   "outputs": [
    {
     "name": "stdout",
     "output_type": "stream",
     "text": [
      "/home/jupyter-lihebi\n",
      "\n"
     ]
    }
   ],
   "source": [
    "!echo $HOME\n",
    "!echo $JUPYTERLAB_DIR"
   ]
  },
  {
   "cell_type": "code",
   "execution_count": 12,
   "metadata": {},
   "outputs": [],
   "source": [
    "# However, this does NOT set the variable\n",
    "!export JUPYTERLAB_DIR=$HOME/.lab"
   ]
  },
  {
   "cell_type": "code",
   "execution_count": 13,
   "metadata": {},
   "outputs": [
    {
     "name": "stdout",
     "output_type": "stream",
     "text": [
      "\n"
     ]
    }
   ],
   "source": [
    "!echo $JUPYTERLAB_DIR"
   ]
  },
  {
   "cell_type": "code",
   "execution_count": null,
   "metadata": {},
   "outputs": [],
   "source": [
    "!ls -l /opt/tljh"
   ]
  },
  {
   "cell_type": "code",
   "execution_count": null,
   "metadata": {},
   "outputs": [],
   "source": [
    "!ls -l /"
   ]
  },
  {
   "cell_type": "markdown",
   "metadata": {},
   "source": [
    "Thus, currently, I'm installing lab extensions in command line by sudo. The following extensions from (https://github.com/mauhai/awesome-jupyterlab) are interesting:\n",
    "\n",
    "```\n",
    "pip install --upgrade jupyterlab-git\n",
    "jupyter lab build\n",
    "jupyter labextension install @jupyterlab/toc\n",
    "jupyter labextension install @jupyterlab/git\n",
    "jupyter labextension install @aquirdturtle/collapsible_headings\n",
    "jupyter labextension install @jupyter-widgets/jupyterlab-manager@2.0\n",
    "jupyter labextension install @ijmbarr/jupyterlab_spellchecker\n",
    "pip install jupyterlab_latex\n",
    "jupyter labextension install @jupyterlab/latex\n",
    "jupyter labextension install @lckr/jupyterlab_variableinspector\n",
    "```\n",
    "\n",
    "Some other extensions only support python. Including:\n",
    "- [auto formatter](https://github.com/ryantam626/jupyterlab_code_formatter)\n",
    "  - the supporting of other languages is in [this issue](https://github.com/ryantam626/jupyterlab_code_formatter/issues/24)\n",
    "- lsp for jump to def https://github.com/krassowski/jupyterlab-lsp\n",
    "- goto def for python https://github.com/krassowski/jupyterlab-go-to-definition\n",
    "\n",
    "The jupyter notebook extension is completely incompatible with lab, because lab and notebook backend is completely separate `(^_^!!)`. Here's some interesting notebook extensions:\n",
    "\n",
    "- Live Markdown Preview\n"
   ]
  },
  {
   "cell_type": "markdown",
   "metadata": {},
   "source": [
    "# Setup IJulia and IRacket\n",
    "\n",
    "## IJulia\n",
    "Install julia first:\n",
    "\n",
    "```\n",
    "wget https://julialang-s3.julialang.org/bin/linux/x64/1.5/julia-1.5.0-linux-x86_64.tar.gz\n",
    "tar zxvf julia-1.5.0-linux-x86_64.tar.gz\n",
    "mv julia-1.5.0 /opt/\n",
    "ln -fs /opt/julia-*/bin/julia /usr/local/bin/julia\n",
    "```\n",
    "\n",
    "Install IJulia\n",
    "\n",
    "```\n",
    "julia -e 'import Pkg; Pkg.update()'\n",
    "julia -e \"using Pkg; pkg\\\"add IJulia\\\"; pkg\\\"precompile\\\"\"\n",
    "```\n",
    "\n",
    "Optionally move kernelspec out:\n",
    "\n",
    "```\n",
    "mv \"${HOME}/.local/share/jupyter/kernels/julia\"* \"${CONDA_DIR}/share/jupyter/kernels/\"\n",
    "chmod -R go+rx \"${CONDA_DIR}/share/jupyter\"\n",
    "rm -rf \"${HOME}/.local\"\n",
    "fix-permissions \"${JULIA_PKGDIR}\" \"${CONDA_DIR}/share/jupyter\n",
    "```\n",
    "\n",
    "Reload the web for it to take action. No need to reload jupyter server."
   ]
  },
  {
   "cell_type": "markdown",
   "metadata": {},
   "source": [
    "## IRacket\n",
    "\n",
    "Install racket\n",
    "\n",
    "```\n",
    "# may need to install add-apt-repository by:\n",
    "sudo apt-get install software-properties-common\n",
    "sudo add-apt-repository ppa:plt/racket\n",
    "sudo apt-get update\n",
    "sudo apt install racket\n",
    "```\n",
    "\n",
    "I'm using my fork of iracket because I'm adding something.\n",
    "\n",
    "```\n",
    "sudo apt install libzmq5\n",
    "git clone https://github.com/lihebi/iracket\n",
    "cd iracket && git checkout dev\n",
    "raco pkg install\n",
    "raco iracket install\n",
    "```"
   ]
  },
  {
   "cell_type": "markdown",
   "metadata": {},
   "source": [
    "# GPU Instance\n",
    "\n",
    "I should be able to change the instance type, even add a GPU. Thus, it seems to be pretty easy to just use this instance for both CPU and GPU. If not, I should save a snapshot and duplicate instance.\n",
    "\n",
    "But during the installation of GPU driver, the GPU may need to appear. Thus, it might be the case where I have to keep a separate instance.\n",
    "\n",
    "UPDATE: it looks like I can install it without any problems.\n",
    "\n",
    "```\n",
    "curl -O https://developer.download.nvidia.com/compute/cuda/repos/ubuntu2004/x86_64/cuda-ubuntu2004.pin\n",
    "sudo mv cuda-ubuntu2004.pin /etc/apt/preferences.d/cuda-repository-pin-600\n",
    "sudo apt-key adv --fetch-keys https://developer.download.nvidia.com/compute/cuda/repos/ubuntu2004/x86_64/7fa2af80.pub\n",
    "sudo add-apt-repository \"deb http://developer.download.nvidia.com/compute/cuda/repos/ubuntu2004/x86_64/ /\"\n",
    "\n",
    "sudo apt update\n",
    "sudo apt install cuda\n",
    "```"
   ]
  },
  {
   "cell_type": "code",
   "execution_count": null,
   "metadata": {},
   "outputs": [],
   "source": []
  }
 ],
 "metadata": {
  "kernelspec": {
   "display_name": "Python 3",
   "language": "python",
   "name": "python3"
  },
  "language_info": {
   "codemirror_mode": {
    "name": "ipython",
    "version": 3
   },
   "file_extension": ".py",
   "mimetype": "text/x-python",
   "name": "python",
   "nbconvert_exporter": "python",
   "pygments_lexer": "ipython3",
   "version": "3.7.7"
  },
  "toc": {
   "base_numbering": 1,
   "nav_menu": {},
   "number_sections": true,
   "sideBar": true,
   "skip_h1_title": false,
   "title_cell": "Table of Contents",
   "title_sidebar": "Contents",
   "toc_cell": false,
   "toc_position": {},
   "toc_section_display": true,
   "toc_window_display": false
  }
 },
 "nbformat": 4,
 "nbformat_minor": 4
}
